{
 "cells": [
  {
   "cell_type": "markdown",
   "metadata": {},
   "source": [
    "## CS310 Natural Language Processing\n",
    "## Lab 13: Explore Question-Answering Models and Datasets"
   ]
  },
  {
   "cell_type": "markdown",
   "metadata": {},
   "source": [
    "In this lab, we will practice with running pretrained models on question-answering tasks. The we demonstrate with is `distilbert-base-uncased`, which is a smaller version of BERT.\n",
    "\n",
    "We will use the [SQuAD](https://rajpurkar.github.io/SQuAD-explorer/) datast provided in the [Datasets](https://github.com/huggingface/datasets) library. Make sure to install the library:\n",
    "\n",
    "```bash\n",
    "pip install datasets\n",
    "```"
   ]
  },
  {
   "cell_type": "code",
   "execution_count": 1,
   "metadata": {},
   "outputs": [],
   "source": [
    "from pprint import pprint"
   ]
  },
  {
   "cell_type": "markdown",
   "metadata": {},
   "source": [
    "### T1. Explore the SQuAD dataset\n",
    "\n",
    "First, let's load the SQuAD dataset"
   ]
  },
  {
   "cell_type": "code",
   "execution_count": 2,
   "metadata": {},
   "outputs": [
    {
     "name": "stderr",
     "output_type": "stream",
     "text": [
      "/opt/miniconda3/envs/py3.11/lib/python3.11/site-packages/tqdm/auto.py:21: TqdmWarning: IProgress not found. Please update jupyter and ipywidgets. See https://ipywidgets.readthedocs.io/en/stable/user_install.html\n",
      "  from .autonotebook import tqdm as notebook_tqdm\n",
      "Generating train split: 100%|██████████| 87599/87599 [00:00<00:00, 195998.19 examples/s]\n",
      "Generating validation split: 100%|██████████| 10570/10570 [00:00<00:00, 184188.46 examples/s]\n"
     ]
    }
   ],
   "source": [
    "from datasets import load_dataset, load_metric\n",
    "\n",
    "squad_dataset = load_dataset('./squad')"
   ]
  },
  {
   "cell_type": "markdown",
   "metadata": {},
   "source": [
    "The `squad_dataset` object is a `DefaultDict` that contains keys for the train and validation splits."
   ]
  },
  {
   "cell_type": "code",
   "execution_count": 3,
   "metadata": {},
   "outputs": [
    {
     "data": {
      "text/plain": [
       "DatasetDict({\n",
       "    train: Dataset({\n",
       "        features: ['id', 'title', 'context', 'question', 'answers'],\n",
       "        num_rows: 87599\n",
       "    })\n",
       "    validation: Dataset({\n",
       "        features: ['id', 'title', 'context', 'question', 'answers'],\n",
       "        num_rows: 10570\n",
       "    })\n",
       "})"
      ]
     },
     "execution_count": 3,
     "metadata": {},
     "output_type": "execute_result"
    }
   ],
   "source": [
    "squad_dataset"
   ]
  },
  {
   "cell_type": "markdown",
   "metadata": {},
   "source": [
    "To access a data instance, you can specify the split and index:"
   ]
  },
  {
   "cell_type": "code",
   "execution_count": 4,
   "metadata": {},
   "outputs": [
    {
     "data": {
      "text/plain": [
       "{'id': '5733be284776f41900661182',\n",
       " 'title': 'University_of_Notre_Dame',\n",
       " 'context': 'Architecturally, the school has a Catholic character. Atop the Main Building\\'s gold dome is a golden statue of the Virgin Mary. Immediately in front of the Main Building and facing it, is a copper statue of Christ with arms upraised with the legend \"Venite Ad Me Omnes\". Next to the Main Building is the Basilica of the Sacred Heart. Immediately behind the basilica is the Grotto, a Marian place of prayer and reflection. It is a replica of the grotto at Lourdes, France where the Virgin Mary reputedly appeared to Saint Bernadette Soubirous in 1858. At the end of the main drive (and in a direct line that connects through 3 statues and the Gold Dome), is a simple, modern stone statue of Mary.',\n",
       " 'question': 'To whom did the Virgin Mary allegedly appear in 1858 in Lourdes France?',\n",
       " 'answers': {'text': ['Saint Bernadette Soubirous'], 'answer_start': [515]}}"
      ]
     },
     "execution_count": 4,
     "metadata": {},
     "output_type": "execute_result"
    }
   ],
   "source": [
    "squad_dataset['train'][0]"
   ]
  },
  {
   "cell_type": "markdown",
   "metadata": {},
   "source": [
    "We can see that teh answer is indicated by its span start index (at character `515`) in the passage text. \n",
    "\n",
    "To get a sense of what the data looks like, the following function will show some examples picked randomly in the dataset"
   ]
  },
  {
   "cell_type": "code",
   "execution_count": 5,
   "metadata": {},
   "outputs": [],
   "source": [
    "from datasets import ClassLabel, Sequence\n",
    "import random\n",
    "import pandas as pd\n",
    "from IPython.display import display, HTML\n",
    "\n",
    "def show_random_elements(dataset, num_examples=10):\n",
    "    assert num_examples <= len(dataset), \"Can't pick more elements than there are in the dataset.\"\n",
    "    picks = []\n",
    "    for _ in range(num_examples):\n",
    "        pick = random.randint(0, len(dataset)-1)\n",
    "        while pick in picks:\n",
    "            pick = random.randint(0, len(dataset)-1)\n",
    "        picks.append(pick)\n",
    "    \n",
    "    df = pd.DataFrame(dataset[picks])\n",
    "    for column, typ in dataset.features.items():\n",
    "        if isinstance(typ, ClassLabel):\n",
    "            df[column] = df[column].transform(lambda i: typ.names[i])\n",
    "        elif isinstance(typ, Sequence) and isinstance(typ.feature, ClassLabel):\n",
    "            df[column] = df[column].transform(lambda x: [typ.feature.names[i] for i in x])\n",
    "    display(HTML(df.to_html()))"
   ]
  },
  {
   "cell_type": "code",
   "execution_count": 6,
   "metadata": {},
   "outputs": [
    {
     "data": {
      "text/html": [
       "<table border=\"1\" class=\"dataframe\">\n",
       "  <thead>\n",
       "    <tr style=\"text-align: right;\">\n",
       "      <th></th>\n",
       "      <th>id</th>\n",
       "      <th>title</th>\n",
       "      <th>context</th>\n",
       "      <th>question</th>\n",
       "      <th>answers</th>\n",
       "    </tr>\n",
       "  </thead>\n",
       "  <tbody>\n",
       "    <tr>\n",
       "      <th>0</th>\n",
       "      <td>56f974f69e9bad19000a0942</td>\n",
       "      <td>Brain</td>\n",
       "      <td>Brain tissue consumes a large amount of energy in proportion to its volume, so large brains place severe metabolic demands on animals. The need to limit body weight in order, for example, to fly, has apparently led to selection for a reduction of brain size in some species, such as bats. Most of the brain's energy consumption goes into sustaining the electric charge (membrane potential) of neurons. Most vertebrate species devote between 2% and 8% of basal metabolism to the brain. In primates, however, the percentage is much higher—in humans it rises to 20–25%. The energy consumption of the brain does not vary greatly over time, but active regions of the cerebral cortex consume somewhat more energy than inactive regions; this forms the basis for the functional brain imaging methods PET, fMRI, and NIRS. The brain typically gets most of its energy from oxygen-dependent metabolism of glucose (i.e., blood sugar), but ketones provide a major alternative source, together with contributions from medium chain fatty acids (caprylic and heptanoic acids), lactate, acetate, and possibly amino acids.</td>\n",
       "      <td>The energy used for metabolism of the brain in humans is what percentage?</td>\n",
       "      <td>{'text': ['20–25%'], 'answer_start': [559]}</td>\n",
       "    </tr>\n",
       "    <tr>\n",
       "      <th>1</th>\n",
       "      <td>572841bd3acd2414000df7db</td>\n",
       "      <td>LaserDisc</td>\n",
       "      <td>LaserDiscs potentially had a much longer lifespan than videocassettes. Because the discs were read optically instead of magnetically, no physical contact needs to be made between the player and the disc, except for the player's clamp that holds the disc at its center as it is spun and read. As a result, playback would not wear the information-bearing part of the discs, and properly manufactured LDs would theoretically last beyond one's lifetime. By contrast, a VHS tape held all of its picture and sound information on the tape in a magnetic coating which is in contact with the spinning heads on the head drum, causing progressive wear with each use (though later in VHS's lifespan, engineering improvements allowed tapes to be made and played back without contact). Also, the tape was thin and delicate, and it was easy for a player mechanism, especially on a low quality or malfunctioning model, to mishandle the tape and damage it by creasing it, frilling (stretching) its edges, or even breaking it.</td>\n",
       "      <td>Where do VHS tapes store their information?</td>\n",
       "      <td>{'text': ['magnetic coating'], 'answer_start': [537]}</td>\n",
       "    </tr>\n",
       "    <tr>\n",
       "      <th>2</th>\n",
       "      <td>5709ee056d058f1900182c37</td>\n",
       "      <td>United_States_dollar</td>\n",
       "      <td>The monetary base consists of coins and Federal Reserve Notes in circulation outside the Federal Reserve Banks and the U.S. Treasury, plus deposits held by depository institutions at Federal Reserve Banks. The adjusted monetary base has increased from approximately 400 billion dollars in 1994, to 800 billion in 2005, and over 3000 billion in 2013. The amount of cash in circulation is increased (or decreased) by the actions of the Federal Reserve System. Eight times a year, the 12-person Federal Open Market Committee meet to determine U.S. monetary policy. Every business day, the Federal Reserve System engages in Open market operations to carry out that monetary policy. If the Federal Reserve desires to increase the money supply, it will buy securities (such as U.S. Treasury Bonds) anonymously from banks in exchange for dollars. Conversely, it will sell securities to the banks in exchange for dollars, to take dollars out of circulation.</td>\n",
       "      <td>What was the monetary base value in 1994?</td>\n",
       "      <td>{'text': ['400 billion dollars'], 'answer_start': [266]}</td>\n",
       "    </tr>\n",
       "  </tbody>\n",
       "</table>"
      ],
      "text/plain": [
       "<IPython.core.display.HTML object>"
      ]
     },
     "metadata": {},
     "output_type": "display_data"
    }
   ],
   "source": [
    "show_random_elements(squad_dataset[\"train\"], num_examples=3)"
   ]
  },
  {
   "cell_type": "markdown",
   "metadata": {},
   "source": [
    "### T2. Preprocess the data\n",
    "\n",
    "Before we feed the data to a model for fine-tuning, there is some preprocessing needed: \n",
    "- Tokenize the input text\n",
    "- Put it in the format expected by the model\n",
    "- Generate other inputs the model requires\n",
    "\n",
    "To do all of this, we need to instantiate a tokenizer that is compatible with the model we want to use, i.e., `distilbert-base-uncased`."
   ]
  },
  {
   "cell_type": "code",
   "execution_count": 7,
   "metadata": {},
   "outputs": [],
   "source": [
    "from transformers import AutoTokenizer\n",
    "\n",
    "model_checkpoint = \"./distilbert-base-uncased\" # If loaded locally, make sure you have the model downloaded first\n",
    "tokenizer = AutoTokenizer.from_pretrained(model_checkpoint)"
   ]
  },
  {
   "cell_type": "markdown",
   "metadata": {},
   "source": [
    "You can directly call this tokenizer on two sentences (e.g., question and context):"
   ]
  },
  {
   "cell_type": "code",
   "execution_count": 8,
   "metadata": {},
   "outputs": [
    {
     "data": {
      "text/plain": [
       "{'input_ids': [101, 6549, 2135, 1010, 1996, 2082, 2038, 1037, 3234, 2839, 1012, 102, 2000, 3183, 2106, 1996, 6261, 2984, 9382, 3711, 1999, 8517, 1999, 10223, 26371, 2605, 1029, 102], 'attention_mask': [1, 1, 1, 1, 1, 1, 1, 1, 1, 1, 1, 1, 1, 1, 1, 1, 1, 1, 1, 1, 1, 1, 1, 1, 1, 1, 1, 1]}"
      ]
     },
     "execution_count": 8,
     "metadata": {},
     "output_type": "execute_result"
    }
   ],
   "source": [
    "tokenizer('Architecturally, the school has a Catholic character.', 'To whom did the Virgin Mary allegedly appear in 1858 in Lourdes France?')"
   ]
  },
  {
   "cell_type": "markdown",
   "metadata": {},
   "source": [
    "An important step in QA is to deal with very **long documents**. If longer than the maximum input size of model, then removing part of context might result in losing the answer.\n",
    "\n",
    "To handle this, we will allow a long document to give several input *features*, each of length shorter than the maximum size. \n",
    "\n",
    "Also, in case the answer is split between two features, we allow some overlap between features, controlled by `doc_stride`."
   ]
  },
  {
   "cell_type": "code",
   "execution_count": 9,
   "metadata": {},
   "outputs": [],
   "source": [
    "max_length = 384 # The maximum length of a feature (question and context)\n",
    "doc_stride = 128 # The authorized overlap between two part of the context when splitting it is needed."
   ]
  },
  {
   "cell_type": "markdown",
   "metadata": {},
   "source": [
    "Let's examine on one long example:"
   ]
  },
  {
   "cell_type": "code",
   "execution_count": 10,
   "metadata": {},
   "outputs": [],
   "source": [
    "for i, example in enumerate(squad_dataset[\"train\"]):\n",
    "    if len(tokenizer(example[\"question\"], example[\"context\"])[\"input_ids\"]) > 384:\n",
    "        break\n",
    "example = squad_dataset[\"train\"][i]"
   ]
  },
  {
   "cell_type": "markdown",
   "metadata": {},
   "source": [
    "Without truncation, its length is:"
   ]
  },
  {
   "cell_type": "code",
   "execution_count": 14,
   "metadata": {},
   "outputs": [
    {
     "name": "stdout",
     "output_type": "stream",
     "text": [
      "396\n",
      "How many wins does the Notre Dame men's basketball team have?\n",
      "The men's basketball team has over 1,600 wins, one of only 12 schools who have reached that mark, and have appeared in 28 NCAA tournaments. Former player Austin Carr holds the record for most points scored in a single game of the tournament with 61. Although the team has never won the NCAA Tournament, they were named by the Helms Athletic Foundation as national champions twice. The team has orchestrated a number of upsets of number one ranked teams, the most notable of which was ending UCLA's record 88-game winning streak in 1974. The team has beaten an additional eight number-one teams, and those nine wins rank second, to UCLA's 10, all-time in wins against the top team. The team plays in newly renovated Purcell Pavilion (within the Edmund P. Joyce Center), which reopened for the beginning of the 2009–2010 season. The team is coached by Mike Brey, who, as of the 2014–15 season, his fifteenth at Notre Dame, has achieved a 332-165 record. In 2009 they were invited to the NIT, where they advanced to the semifinals but were beaten by Penn State who went on and beat Baylor in the championship. The 2010–11 team concluded its regular season ranked number seven in the country, with a record of 25–5, Brey's fifth straight 20-win season, and a second-place finish in the Big East. During the 2014-15 season, the team went 32-6 and won the ACC conference tournament, later advancing to the Elite 8, where the Fighting Irish lost on a missed buzzer-beater against then undefeated Kentucky. Led by NBA draft picks Jerian Grant and Pat Connaughton, the Fighting Irish beat the eventual national champion Duke Blue Devils twice during the season. The 32 wins were the most by the Fighting Irish team since 1908-09.\n"
     ]
    }
   ],
   "source": [
    "print(len(tokenizer(example['question'], example['context'])['input_ids']))\n",
    "print(example['question'])\n",
    "print(example['context'])"
   ]
  },
  {
   "cell_type": "markdown",
   "metadata": {},
   "source": [
    "If we truncate, the resulting length is:"
   ]
  },
  {
   "cell_type": "code",
   "execution_count": 12,
   "metadata": {},
   "outputs": [
    {
     "data": {
      "text/plain": [
       "384"
      ]
     },
     "execution_count": 12,
     "metadata": {},
     "output_type": "execute_result"
    }
   ],
   "source": [
    "len(tokenizer(example[\"question\"], example[\"context\"], max_length=max_length, truncation=\"only_second\")[\"input_ids\"])"
   ]
  },
  {
   "cell_type": "markdown",
   "metadata": {},
   "source": [
    "Note that we never want to truncate the question, so we specify `truncation='only_second`. \n",
    "\n",
    "Now, we further tell the tokenizer to return the overlaping features, by setting `return_overflowing_tokens=True` and `stride=doc_stride`."
   ]
  },
  {
   "cell_type": "code",
   "execution_count": 15,
   "metadata": {},
   "outputs": [
    {
     "name": "stdout",
     "output_type": "stream",
     "text": [
      "[384, 157]\n"
     ]
    }
   ],
   "source": [
    "tokenized_example = tokenizer(\n",
    "    example[\"question\"],\n",
    "    example[\"context\"],\n",
    "    max_length=max_length,\n",
    "    truncation=\"only_second\",\n",
    "    return_overflowing_tokens=True,\n",
    "    stride=doc_stride\n",
    ")\n",
    "\n",
    "print([len(x) for x in tokenized_example[\"input_ids\"]])"
   ]
  },
  {
   "cell_type": "markdown",
   "metadata": {},
   "source": [
    "We can look at the two features decoded:"
   ]
  },
  {
   "cell_type": "code",
   "execution_count": 16,
   "metadata": {},
   "outputs": [
    {
     "name": "stdout",
     "output_type": "stream",
     "text": [
      "(\"[CLS] how many wins does the notre dame men's basketball team have? [SEP] \"\n",
      " \"the men's basketball team has over 1, 600 wins, one of only 12 schools who \"\n",
      " 'have reached that mark, and have appeared in 28 ncaa tournaments. former '\n",
      " 'player austin carr holds the record for most points scored in a single game '\n",
      " 'of the tournament with 61. although the team has never won the ncaa '\n",
      " 'tournament, they were named by the helms athletic foundation as national '\n",
      " 'champions twice. the team has orchestrated a number of upsets of number one '\n",
      " \"ranked teams, the most notable of which was ending ucla's record 88 - game \"\n",
      " 'winning streak in 1974. the team has beaten an additional eight number - one '\n",
      " \"teams, and those nine wins rank second, to ucla's 10, all - time in wins \"\n",
      " 'against the top team. the team plays in newly renovated purcell pavilion ( '\n",
      " 'within the edmund p. joyce center ), which reopened for the beginning of the '\n",
      " '2009 – 2010 season. the team is coached by mike brey, who, as of the 2014 – '\n",
      " '15 season, his fifteenth at notre dame, has achieved a 332 - 165 record. in '\n",
      " '2009 they were invited to the nit, where they advanced to the semifinals but '\n",
      " 'were beaten by penn state who went on and beat baylor in the championship. '\n",
      " 'the 2010 – 11 team concluded its regular season ranked number seven in the '\n",
      " \"country, with a record of 25 – 5, brey's fifth straight 20 - win season, and \"\n",
      " 'a second - place finish in the big east. during the 2014 - 15 season, the '\n",
      " 'team went 32 - 6 and won the acc conference tournament, later advancing to '\n",
      " 'the elite 8, where the fighting irish lost on a missed buzzer - beater '\n",
      " 'against then undefeated kentucky. led by nba draft picks jerian grant and '\n",
      " 'pat connaughton, the fighting irish beat the eventual national champion duke '\n",
      " 'blue devils twice during the season. the 32 wins were [SEP]')\n",
      "(\"[CLS] how many wins does the notre dame men's basketball team have? [SEP] \"\n",
      " 'championship. the 2010 – 11 team concluded its regular season ranked number '\n",
      " \"seven in the country, with a record of 25 – 5, brey's fifth straight 20 - \"\n",
      " 'win season, and a second - place finish in the big east. during the 2014 - '\n",
      " '15 season, the team went 32 - 6 and won the acc conference tournament, later '\n",
      " 'advancing to the elite 8, where the fighting irish lost on a missed buzzer - '\n",
      " 'beater against then undefeated kentucky. led by nba draft picks jerian grant '\n",
      " 'and pat connaughton, the fighting irish beat the eventual national champion '\n",
      " 'duke blue devils twice during the season. the 32 wins were the most by the '\n",
      " 'fighting irish team since 1908 - 09. [SEP]')\n"
     ]
    }
   ],
   "source": [
    "for x in tokenized_example[\"input_ids\"][:2]:\n",
    "    pprint(tokenizer.decode(x))"
   ]
  },
  {
   "cell_type": "markdown",
   "metadata": {},
   "source": [
    "Now, we nned to find out in which of the two features the answer is, and where exactly it starts and ends.\n",
    "\n",
    "Thankfully, the tokenizer can help us by returning the `offset_mapping` that gives the start and end character of each token:"
   ]
  },
  {
   "cell_type": "code",
   "execution_count": 17,
   "metadata": {},
   "outputs": [
    {
     "name": "stdout",
     "output_type": "stream",
     "text": [
      "[(0, 0), (0, 3), (4, 8), (9, 13), (14, 18), (19, 22), (23, 28), (29, 33), (34, 37), (37, 38)]\n"
     ]
    }
   ],
   "source": [
    "tokenized_example = tokenizer(\n",
    "    example[\"question\"],\n",
    "    example[\"context\"],\n",
    "    max_length=max_length,\n",
    "    truncation=\"only_second\",\n",
    "    return_overflowing_tokens=True,\n",
    "    return_offsets_mapping=True,\n",
    "    stride=doc_stride\n",
    ")\n",
    "\n",
    "offsets = tokenized_example[\"offset_mapping\"][0]\n",
    "print(offsets[:10])"
   ]
  },
  {
   "cell_type": "markdown",
   "metadata": {},
   "source": [
    "In the above output, the very first token (`[CLS]`) has `(0, 0)` because it doesn't correspond to any part of the question/answer.\n",
    "\n",
    "The second token corresponds to the span from character 0 to 3 in the context, and so on."
   ]
  },
  {
   "cell_type": "code",
   "execution_count": 18,
   "metadata": {},
   "outputs": [
    {
     "name": "stdout",
     "output_type": "stream",
     "text": [
      "how\n",
      "How\n"
     ]
    }
   ],
   "source": [
    "token_id = tokenized_example[\"input_ids\"][0][1]\n",
    "print(tokenizer.convert_ids_to_tokens(token_id))\n",
    "\n",
    "token_offsets = tokenized_example[\"offset_mapping\"][0][1]\n",
    "print(example[\"question\"][token_offsets[0]:token_offsets[1]])"
   ]
  },
  {
   "cell_type": "markdown",
   "metadata": {},
   "source": [
    "Before going on to the next step, we just have to distinguish between the offsets for `question` and those for `context`. The `sequence_ids` method can be helpful:"
   ]
  },
  {
   "cell_type": "code",
   "execution_count": 19,
   "metadata": {},
   "outputs": [
    {
     "name": "stdout",
     "output_type": "stream",
     "text": [
      "len(sequence_ids): 384\n",
      "[None, 0, 0, 0, 0, 0, 0, 0, 0, 0, 0, 0, 0, 0, 0, None, 1, 1, 1, 1, 1, 1, 1, 1, 1, 1, 1, 1, 1, 1, 1, 1, 1, 1, 1, 1, 1, 1, 1, 1, 1, 1, 1, 1, 1, 1, 1, 1, 1, 1, 1, 1, 1, 1, 1, 1, 1, 1, 1, 1, 1, 1, 1, 1, 1, 1, 1, 1, 1, 1, 1, 1, 1, 1, 1, 1, 1, 1, 1, 1, 1, 1, 1, 1, 1, 1, 1, 1, 1, 1, 1, 1, 1, 1, 1, 1, 1, 1, 1, 1, 1, 1, 1, 1, 1, 1, 1, 1, 1, 1, 1, 1, 1, 1, 1, 1, 1, 1, 1, 1, 1, 1, 1, 1, 1, 1, 1, 1, 1, 1, 1, 1, 1, 1, 1, 1, 1, 1, 1, 1, 1, 1, 1, 1, 1, 1, 1, 1, 1, 1, 1, 1, 1, 1, 1, 1, 1, 1, 1, 1, 1, 1, 1, 1, 1, 1, 1, 1, 1, 1, 1, 1, 1, 1, 1, 1, 1, 1, 1, 1, 1, 1, 1, 1, 1, 1, 1, 1, 1, 1, 1, 1, 1, 1, 1, 1, 1, 1, 1, 1, 1, 1, 1, 1, 1, 1, 1, 1, 1, 1, 1, 1, 1, 1, 1, 1, 1, 1, 1, 1, 1, 1, 1, 1, 1, 1, 1, 1, 1, 1, 1, 1, 1, 1, 1, 1, 1, 1, 1, 1, 1, 1, 1, 1, 1, 1, 1, 1, 1, 1, 1, 1, 1, 1, 1, 1, 1, 1, 1, 1, 1, 1, 1, 1, 1, 1, 1, 1, 1, 1, 1, 1, 1, 1, 1, 1, 1, 1, 1, 1, 1, 1, 1, 1, 1, 1, 1, 1, 1, 1, 1, 1, 1, 1, 1, 1, 1, 1, 1, 1, 1, 1, 1, 1, 1, 1, 1, 1, 1, 1, 1, 1, 1, 1, 1, 1, 1, 1, 1, 1, 1, 1, 1, 1, 1, 1, 1, 1, 1, 1, 1, 1, 1, 1, 1, 1, 1, 1, 1, 1, 1, 1, 1, 1, 1, 1, 1, 1, 1, 1, 1, 1, 1, 1, 1, 1, 1, 1, 1, 1, 1, 1, 1, 1, 1, 1, 1, 1, 1, 1, 1, 1, 1, 1, 1, 1, 1, 1, 1, 1, 1, 1, 1, None]\n"
     ]
    }
   ],
   "source": [
    "sequence_ids = tokenized_example.sequence_ids()\n",
    "\n",
    "print('len(sequence_ids):', len(sequence_ids))\n",
    "print(sequence_ids)"
   ]
  },
  {
   "cell_type": "markdown",
   "metadata": {},
   "source": [
    "It returns None for the special tokens; then `0` for tokens from the first sequence (i.e., the `question`), and `1` for tokens from the second sequence (i.e., the `context`).\n",
    "\n",
    "It tells us that we need to find the span of answer among all `1` tokens.\n",
    "\n",
    "Now, we are ready to use `offset_mapping` to find the position of the start and end tokens of the `answer` in a given feature."
   ]
  },
  {
   "cell_type": "code",
   "execution_count": 20,
   "metadata": {},
   "outputs": [
    {
     "name": "stdout",
     "output_type": "stream",
     "text": [
      "{'text': ['over 1,600'], 'answer_start': [30]}\n",
      "ans_start: 30\n",
      "end_char: 40\n"
     ]
    }
   ],
   "source": [
    "answers = example[\"answers\"]\n",
    "ans_start = answers[\"answer_start\"][0]\n",
    "ans_end = ans_start + len(answers[\"text\"][0])\n",
    "\n",
    "print(answers)\n",
    "print('ans_start:', ans_start)\n",
    "print('end_char:', ans_end)"
   ]
  },
  {
   "cell_type": "markdown",
   "metadata": {},
   "source": [
    "Let `token_start_index` and `token_end_index` be the initial search range for the answer span, initialize them properly:"
   ]
  },
  {
   "cell_type": "code",
   "execution_count": 21,
   "metadata": {},
   "outputs": [
    {
     "name": "stdout",
     "output_type": "stream",
     "text": [
      "token_start_index: 16\n",
      "offsets[token_start_index]: (0, 3)\n"
     ]
    }
   ],
   "source": [
    "# Find the position of the first `1` token\n",
    "### START YOUR CODE ###\n",
    "token_start_index = sequence_ids.index(1) \n",
    "### END YOUR CODE ###\n",
    "\n",
    "print('token_start_index:', token_start_index)\n",
    "print('offsets[token_start_index]:', offsets[token_start_index])\n",
    "# Expected output\n",
    "# token_start_index: 16\n",
    "# offsets[token_start_index]: (0, 3)"
   ]
  },
  {
   "cell_type": "code",
   "execution_count": 22,
   "metadata": {},
   "outputs": [
    {
     "name": "stdout",
     "output_type": "stream",
     "text": [
      "token_end_index: 382\n",
      "offsets[token_end_index]: (1665, 1669)\n"
     ]
    }
   ],
   "source": [
    "# Find the position of the last `1` token\n",
    "### START YOUR CODE ###\n",
    "token_end_index = len(sequence_ids) - 1 - sequence_ids[::-1].index(1)\n",
    "### END YOUR CODE ###\n",
    "\n",
    "print('token_end_index:', token_end_index)\n",
    "print('offsets[token_end_index]:', offsets[token_end_index])\n",
    "# Expected output\n",
    "# token_end_index: 382\n",
    "# offsets[token_end_index]: (1665, 1669)"
   ]
  },
  {
   "cell_type": "markdown",
   "metadata": {},
   "source": [
    "First, detect if `ans_start` and `ans_end` is within the initial search range. \n",
    "\n",
    "If they do, then find the start and end indices of tokens, whose offsets encompass `ans_start` and `ans_end`, repectively. "
   ]
  },
  {
   "cell_type": "code",
   "execution_count": 55,
   "metadata": {},
   "outputs": [
    {
     "name": "stdout",
     "output_type": "stream",
     "text": [
      "23 26\n",
      "(30, 34) (37, 40)\n"
     ]
    }
   ],
   "source": [
    "offsets = tokenized_example[\"offset_mapping\"][0]\n",
    "token_start_index = 16\n",
    "token_end_index = 382 # reset\n",
    "\n",
    "# Detect if the answer is within the initial search range\n",
    "### START YOUR CODE ###\n",
    "if not (offsets[token_start_index][0] <= ans_start <= offsets[token_end_index][1] and\n",
    "        offsets[token_start_index][0] <= ans_end <= offsets[token_end_index][1]):\n",
    "    print('The answer is not in this feature.')\n",
    "### END YOUR CODE ###\n",
    "else:\n",
    "    # Find the start and end indices of the tokens, whose offsets encompass the ans_start and ans_end\n",
    "    ### START YOUR CODE ###\n",
    "    start_position = next(i for i, (start, end) in enumerate(offsets) if start == ans_start and ans_start< end)\n",
    "    end_position = next(i for i, (start, end) in enumerate(offsets) if start < ans_end and ans_end== end)\n",
    "\n",
    "    ### END YOUR CODE ###\n",
    "\n",
    "# Test\n",
    "print(start_position, end_position)\n",
    "print(offsets[start_position], offsets[end_position])\n",
    "\n",
    "# Expected output\n",
    "# 23 26"
   ]
  },
  {
   "cell_type": "markdown",
   "metadata": {},
   "source": [
    "We can double check that it is indeed the answer:"
   ]
  },
  {
   "cell_type": "code",
   "execution_count": 56,
   "metadata": {},
   "outputs": [
    {
     "name": "stdout",
     "output_type": "stream",
     "text": [
      "over 1, 600\n",
      "over 1,600\n"
     ]
    }
   ],
   "source": [
    "print(tokenizer.decode(tokenized_example[\"input_ids\"][0][start_position: end_position+1]))\n",
    "print(answers[\"text\"][0])"
   ]
  }
 ],
 "metadata": {
  "kernelspec": {
   "display_name": "base",
   "language": "python",
   "name": "python3"
  },
  "language_info": {
   "codemirror_mode": {
    "name": "ipython",
    "version": 3
   },
   "file_extension": ".py",
   "mimetype": "text/x-python",
   "name": "python",
   "nbconvert_exporter": "python",
   "pygments_lexer": "ipython3",
   "version": "3.11.8"
  }
 },
 "nbformat": 4,
 "nbformat_minor": 2
}
