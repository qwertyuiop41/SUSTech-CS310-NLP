{
 "cells": [
  {
   "cell_type": "markdown",
   "metadata": {},
   "source": [
    "## CS310 Natural Language Processing\n",
    "## Lab 7: Dependency Parsing"
   ]
  },
  {
   "cell_type": "code",
   "execution_count": 1,
   "metadata": {},
   "outputs": [],
   "source": [
    "from dep_utils import conll_reader, DependencyTree\n",
    "import copy\n",
    "from pprint import pprint\n",
    "from collections import Counter, defaultdict\n",
    "from typing import List, Dict, Tuple"
   ]
  },
  {
   "cell_type": "markdown",
   "metadata": {},
   "source": [
    "### Explore Dependency-Annotated Data\n",
    "\n",
    "The data used in this lab are listed as follows:\n",
    "- data/train.conll - Training data.  ~40k sentences\n",
    "- data/dev.conll - Development data.  ~1.7k sentences. Used for observing loss and accuracy during training, and for tuning hyperparameters.\n",
    "- data/test.conll - Test data.  ~2.4k sentences. Used for evaluating the final model.\n",
    "\n",
    "The data are from a split of the WSJ part of the Penn Treebank.\n",
    "\n",
    "The data are in CoNLL-X  format (CoNLL: Conference on Computational Natural Language learning) Each sentences corresponds to a number of lines, one per word. Sentences are separated with a blank line.\n"
   ]
  },
  {
   "cell_type": "code",
   "execution_count": 2,
   "metadata": {},
   "outputs": [
    {
     "name": "stdout",
     "output_type": "stream",
     "text": [
      "In train.conll:\n",
      "39832 trees read.\n",
      "In dev.conll:\n",
      "1700 trees read.\n",
      "In test.conll:\n",
      "2416 trees read.\n"
     ]
    }
   ],
   "source": [
    "print('In train.conll:')\n",
    "with open('data/train.conll') as f:\n",
    "    train_trees = list(conll_reader(f))\n",
    "print(f'{len(train_trees)} trees read.')\n",
    "\n",
    "print('In dev.conll:')\n",
    "with open('data/dev.conll') as f:\n",
    "    dev_trees = list(conll_reader(f))\n",
    "print(f'{len(dev_trees)} trees read.')\n",
    "\n",
    "print('In test.conll:')\n",
    "with open('data/test.conll') as f:\n",
    "    test_trees = list(conll_reader(f))\n",
    "print(f'{len(test_trees)} trees read.')"
   ]
  },
  {
   "cell_type": "markdown",
   "metadata": {},
   "source": [
    "Print some processed sentences "
   ]
  },
  {
   "cell_type": "code",
   "execution_count": 3,
   "metadata": {},
   "outputs": [
    {
     "name": "stdout",
     "output_type": "stream",
     "text": [
      "1\tThe\t_\t_\tDT\t_\t2\tdet\t_\t_\n",
      "2\tbill\t_\t_\tNN\t_\t3\tnsubj\t_\t_\n",
      "3\tintends\t_\t_\tVBZ\t_\t0\troot\t_\t_\n",
      "4\tto\t_\t_\tTO\t_\t5\tmark\t_\t_\n",
      "5\trestrict\t_\t_\tVB\t_\t3\txcomp\t_\t_\n",
      "6\tthe\t_\t_\tDT\t_\t7\tdet\t_\t_\n",
      "7\tRTC\t_\t_\tNNP\t_\t5\tdobj\t_\t_\n",
      "8\tto\t_\t_\tTO\t_\t10\tcase\t_\t_\n",
      "9\tTreasury\t_\t_\tNNP\t_\t10\tcompound\t_\t_\n",
      "10\tborrowings\t_\t_\tNNS\t_\t5\tnmod\t_\t_\n",
      "11\tonly\t_\t_\tRB\t_\t10\tadvmod\t_\t_\n",
      "12\t,\t_\t_\t,\t_\t3\tpunct\t_\t_\n",
      "13\tunless\t_\t_\tIN\t_\t16\tmark\t_\t_\n",
      "14\tthe\t_\t_\tDT\t_\t15\tdet\t_\t_\n",
      "15\tagency\t_\t_\tNN\t_\t16\tnsubj\t_\t_\n",
      "16\treceives\t_\t_\tVBZ\t_\t3\tadvcl\t_\t_\n",
      "17\tspecific\t_\t_\tJJ\t_\t19\tamod\t_\t_\n",
      "18\tcongressional\t_\t_\tJJ\t_\t19\tamod\t_\t_\n",
      "19\tauthorization\t_\t_\tNN\t_\t16\tdobj\t_\t_\n",
      "20\t.\t_\t_\t.\t_\t3\tpunct\t_\t_\n"
     ]
    }
   ],
   "source": [
    "tree = dev_trees[2]\n",
    "print(tree)"
   ]
  },
  {
   "cell_type": "markdown",
   "metadata": {},
   "source": [
    "The above cell prints the 3rd sentence in dev.conll, which consists of 20 words (including punctuations) in 20 lines.\n",
    "\n",
    "Each line contains fields, seperated by a single tab symbol, as follows:\n",
    "\n",
    "- Word ID: Word index, integer starting from 1 for each new sentence.\n",
    "- Word form: The word itself.\n",
    "- Lemma: Unused (represented as an underscore \"_\").\n",
    "- Universal POS: Unused (represented as an underscore \"_\").\n",
    "- POS: Part of speech tag.\n",
    "- Features: Unused (represented as an underscore \"_\").\n",
    "- Word ID of the **head** of the current word.\n",
    "- Dependency relation: The dependency relation between the head and the current word.\n",
    "- deps: Unused (represented as an underscore \"_\").\n",
    "- misc: Unused (represented as an underscore \"_\").\n",
    "\n",
    "---\n"
   ]
  },
  {
   "cell_type": "markdown",
   "metadata": {},
   "source": [
    "### T1. Statistics of Dependency Relations\n",
    "\n",
    "Study the code of `DependencyTree` and `DependencyEdge` classes in  `utils.py`, and then count the number of unique dependency relations in the data."
   ]
  },
  {
   "cell_type": "code",
   "execution_count": 10,
   "metadata": {},
   "outputs": [
    {
     "name": "stdout",
     "output_type": "stream",
     "text": [
      "Total number fo unique relations: 39\n",
      "{'det:predet', 'discourse', 'advmod', 'compound', 'cop', 'punct', 'xcomp', 'nummod', 'aux', 'det', 'root', 'nmod', 'cc:preconj', 'case', 'mark', 'parataxis', 'dep', 'mwe', 'csubjpass', 'iobj', 'amod', 'expl', 'auxpass', 'csubj', 'acl:relcl', 'advcl', 'dobj', 'nsubjpass', 'compound:prt', 'nsubj', 'cc', 'appos', 'neg', 'nmod:npmod', 'acl', 'nmod:poss', 'ccomp', 'nmod:tmod', 'conj'}\n",
      "Number of occurrences of ROOT: 43948\n"
     ]
    }
   ],
   "source": [
    "import sys\n",
    "\n",
    "rel_counter = Counter()\n",
    "\n",
    "### START YOUR CODE ###\n",
    "for tree in train_trees:\n",
    "    for deprel in tree.deprels.values():\n",
    "        rel_counter[deprel.deprel] += 1\n",
    "for tree in dev_trees:\n",
    "    for deprel in tree.deprels.values():\n",
    "        rel_counter[deprel.deprel] += 1\n",
    "for tree in test_trees:\n",
    "    for deprel in tree.deprels.values():\n",
    "        rel_counter[deprel.deprel] += 1\n",
    "\n",
    "\n",
    "### END YOUR CODE ###\n",
    "\n",
    "# Test results\n",
    "print('Total number fo unique relations:', len(rel_counter))\n",
    "print(set(rel_counter.keys()))\n",
    "print('Number of occurrences of ROOT:', rel_counter['root'])\n",
    "\n",
    "# You should expect to see the following output:\n",
    "# Total number fo unique relations: 39\n",
    "# {'nummod', 'root', 'nmod:tmod', 'nmod', 'punct', 'expl', 'auxpass', 'neg', 'nsubjpass', 'appos' ...\n",
    "# Number of occurrences of ROOT: 43948"
   ]
  },
  {
   "cell_type": "markdown",
   "metadata": {},
   "source": [
    "### T2. Generate Training Data\n",
    "\n",
    "Study the code of the following `State` class\n",
    "\n",
    "**Note**:\n",
    "- The `State` class consists of `stack`, `buffer`, and `deps` as its members\n",
    "- `stack` and `buffer` are lists of word IDs (integers)\n",
    "  - The top of stack is `stack[-1]`\n",
    "  - The front of buffer is `buffer[-1]`\n",
    "- `deps` represents the currently found dependencies\n",
    "  - It is a list of `(parent, child, relation)` triples, where `parent` and `child` are integer IDs and `relation` is a string (the dependency label).\n",
    "- The `shift` methods moves the front of the buffer to the top of the stack\n",
    "- The `left_arc` method adds a head-dependent relation between the top two words on stack: $s_1 \\rightarrow s_2$. Here $s_1$ is `stack[-1]`.\n",
    "- The `right_arc` method adds a head-dependent relation between the top two words on stack: $s_2 \\rightarrow s_1$. "
   ]
  },
  {
   "cell_type": "code",
   "execution_count": null,
   "metadata": {},
   "outputs": [],
   "source": [
    "class State(object):\n",
    "    def __init__(self, sentence=[]):\n",
    "        self.stack = []\n",
    "        self.buffer = []\n",
    "        if sentence:\n",
    "            self.buffer = list(reversed(sentence))\n",
    "        self.deps = set()\n",
    "\n",
    "    def shift(self):\n",
    "        ### START YOUR CODE ###\n",
    "        self.stack.append(self.buffer.pop())\n",
    "        ### END YOUR CODE ###\n",
    "\n",
    "    def left_arc(self, label: str):\n",
    "        assert len(self.stack) >= 2\n",
    "        ### START YOUR CODE ###\n",
    "        dependent = self.stack.pop(-2)\n",
    "        head = self.stack[-1]\n",
    "        self.deps.add((head, dependent, label))\n",
    "        ### END YOUR CODE ###\n",
    "\n",
    "    def right_arc(self, label: str):\n",
    "        assert len(self.stack) >= 2\n",
    "        ### START YOUR CODE ###\n",
    "        dependent = self.stack.pop()\n",
    "        head = self.stack[-1]\n",
    "        self.deps.add((head, dependent, label))\n",
    "        ### END YOUR CODE ###\n",
    "\n",
    "    def __repr__(self):\n",
    "        return \"({},{},{})\".format(self.stack, self.buffer, self.deps)"
   ]
  },
  {
   "cell_type": "code",
   "execution_count": null,
   "metadata": {},
   "outputs": [],
   "source": [
    "# Test results\n",
    "state = State([0,1,2,3,4])\n",
    "state.shift()\n",
    "state.shift()\n",
    "print('after 2 shifts:', state)\n",
    "\n",
    "state.shift()\n",
    "print('before right-arc:', state)\n",
    "state.right_arc('label1')\n",
    "print('after right-arc:', state)\n",
    "\n",
    "state.shift()\n",
    "state.shift()\n",
    "print('before left-arc:', state)\n",
    "state.left_arc('label2')\n",
    "print('after left-arc:', state)\n",
    "\n",
    "\n",
    "# You should expect to see the following output:\n",
    "# after 2 shifts: ([0, 1],[4, 3, 2],set())\n",
    "# before right-arc: ([0, 1, 2],[4, 3],set())\n",
    "# after right-arc: ([0, 1],[4, 3],{(1, 2, 'label1')})\n",
    "# before left-arc: ([0, 1, 3, 4],[],{(1, 2, 'label1')})\n",
    "# after left-arc: ([0, 1, 4],[],{(1, 2, 'label1'), (4, 3, 'label2')})"
   ]
  },
  {
   "cell_type": "markdown",
   "metadata": {},
   "source": [
    "Complete the folliwing `get_training_instances` function, so that it can generate the training data instances from a given dependency tree.\n",
    "\n",
    "The return type of this function is a list of two-elements tuples:\n",
    "- Tuple[0] is a `State` object, deepcopied from the initial state\n",
    "- Tuple[1] is a a tuple of `(action, relation)` where `action` is from {\"shift\", \"left_arc\", \"right_arc\"} and `relation` is the specific dependency relation.\n",
    "\n",
    "The transition action is decided in the `if ... elif ... else` block, which corresponds to the following three cases:\n",
    "- If $s_1 \\rightarrow s_2$ exists in `deprels`, then `left_arc` is performed.\n",
    "- If $s_2 \\rightarrow s_1$ exists in `deprels`, **AND** all rules with $s_1$ as the head have already been assigned, then `right_arc` is performed.\n",
    "- Perform `shift` otherwise.\n",
    "\n",
    "Note that we use the dictionary `childcount` to count the number of relations with each word as the head. Each time after a `left_arc` or `right_arc` is performed, the corresponding count is decreased by 1."
   ]
  },
  {
   "cell_type": "code",
   "execution_count": 18,
   "metadata": {},
   "outputs": [],
   "source": [
    "class RootDummy(object):\n",
    "    def __init__(self):\n",
    "        self.head = None\n",
    "        self.id = 0\n",
    "        self.deprel = None\n",
    "    def __repr__(self):\n",
    "        return \"<ROOT>\"\n",
    "\n",
    "\n",
    "def get_training_instances(dep_tree) -> List[Tuple[State, Tuple[str, str]]]:\n",
    "    deprels = dep_tree.deprels\n",
    "\n",
    "    word_ids = list(deprels.keys())\n",
    "    state = State(word_ids)\n",
    "    state.stack.append(0) # ROOT\n",
    "\n",
    "    childcount = defaultdict(int)\n",
    "    for _, rel in deprels.items():\n",
    "        childcount[rel.head] += 1\n",
    "\n",
    "    seq = []\n",
    "    while len(state.buffer) > 0 or len(state.stack) > 1:\n",
    "        if state.stack[-1] == 0:\n",
    "            seq.append((copy.deepcopy(state), (\"shift\", None)))\n",
    "            state.shift()\n",
    "            continue\n",
    "        \n",
    "        stack_top1 = deprels[state.stack[-1]]\n",
    "        if state.stack[-2] == 0:\n",
    "            stack_top2 = RootDummy()\n",
    "        else:\n",
    "            stack_top2 = deprels[state.stack[-2]]\n",
    "\n",
    "        # Decide transition action\n",
    "        ### START YOUR CODE ###\n",
    "        # if None: # Left-Arc\n",
    "        #     pass\n",
    "        # elif None: # Right-Arc\n",
    "        #     pass\n",
    "        # else: # Shift\n",
    "        #     pass\n",
    "        if stack_top2.head == stack_top1.id and childcount[stack_top1.id] == 0:\n",
    "            # Left-Arc\n",
    "            relation = stack_top1.deprel\n",
    "            seq.append((copy.deepcopy(state), (\"left_arc\", relation)))\n",
    "            state.left_arc(relation)\n",
    "            childcount[stack_top2.id] -= 1\n",
    "        elif stack_top1.head == stack_top2.id and childcount[stack_top2.id] == 0:\n",
    "            # Right-Arc\n",
    "            relation = stack_top1.deprel\n",
    "            seq.append((copy.deepcopy(state), (\"right_arc\", relation)))\n",
    "            state.right_arc(relation)\n",
    "            childcount[stack_top1.id] -= 1\n",
    "        else:\n",
    "            # Shift\n",
    "            seq.append((copy.deepcopy(state), (\"shift\", None)))\n",
    "            state.shift()\n",
    "        ### END YOUR CODE ###\n",
    "    \n",
    "    seq.append((copy.deepcopy(state), (\"done\", None)))\n",
    "\n",
    "    return seq"
   ]
  },
  {
   "cell_type": "markdown",
   "metadata": {},
   "source": [
    "Test with a toy tree"
   ]
  },
  {
   "cell_type": "code",
   "execution_count": 19,
   "metadata": {},
   "outputs": [
    {
     "name": "stdout",
     "output_type": "stream",
     "text": [
      "1\tBook\t_\t_\tVERB\t_\t0\troot\t_\t_\n",
      "2\tthe\t_\t_\tDET\t_\t3\tdet\t_\t_\n",
      "3\tflight\t_\t_\tNOUN\t_\t1\tobj\t_\t_\n",
      "4\tthrough\t_\t_\tADP\t_\t5\tcase\t_\t_\n",
      "5\tHouston\t_\t_\tPROPN\t_\t3\tnmod\t_\t_\n"
     ]
    }
   ],
   "source": [
    "toy_tree_str = \"\"\"\n",
    "1\\tBook\\t_\\t_\\tVERB\\t_\\t0\\troot\\t_\\t_\n",
    "2\\tthe\\t_\\t_\\tDET\\t_\\t3\\tdet\\t_\\t_\n",
    "3\\tflight\\t_\\t_\\tNOUN\\t_\\t1\\tobj\\t_\\t_\n",
    "4\\tthrough\\t_\\t_\\tADP\\t_\\t5\\tcase\\t_\\t_\n",
    "5\\tHouston\\t_\\t_\\tPROPN\\t_\\t3\\tnmod\\t_\\t_\n",
    "\"\"\"\n",
    "toy_tree = DependencyTree.from_string(toy_tree_str)\n",
    "print(toy_tree)"
   ]
  },
  {
   "cell_type": "code",
   "execution_count": 20,
   "metadata": {},
   "outputs": [
    {
     "ename": "KeyboardInterrupt",
     "evalue": "",
     "output_type": "error",
     "traceback": [
      "\u001B[0;31m---------------------------------------------------------------------------\u001B[0m",
      "\u001B[0;31mKeyboardInterrupt\u001B[0m                         Traceback (most recent call last)",
      "Cell \u001B[0;32mIn[20], line 1\u001B[0m\n\u001B[0;32m----> 1\u001B[0m toy_data \u001B[38;5;241m=\u001B[39m \u001B[43mget_training_instances\u001B[49m\u001B[43m(\u001B[49m\u001B[43mtoy_tree\u001B[49m\u001B[43m)\u001B[49m\n\u001B[1;32m      2\u001B[0m \u001B[38;5;28mprint\u001B[39m(\u001B[38;5;124m'\u001B[39m\u001B[38;5;124mtoy_data length:\u001B[39m\u001B[38;5;124m'\u001B[39m, \u001B[38;5;28mlen\u001B[39m(toy_data))\n\u001B[1;32m      3\u001B[0m pprint(toy_data)\n",
      "Cell \u001B[0;32mIn[18], line 56\u001B[0m, in \u001B[0;36mget_training_instances\u001B[0;34m(dep_tree)\u001B[0m\n\u001B[1;32m     53\u001B[0m     childcount[stack_top1\u001B[38;5;241m.\u001B[39mid] \u001B[38;5;241m-\u001B[39m\u001B[38;5;241m=\u001B[39m \u001B[38;5;241m1\u001B[39m\n\u001B[1;32m     54\u001B[0m \u001B[38;5;28;01melse\u001B[39;00m:\n\u001B[1;32m     55\u001B[0m     \u001B[38;5;66;03m# Shift\u001B[39;00m\n\u001B[0;32m---> 56\u001B[0m     seq\u001B[38;5;241m.\u001B[39mappend((\u001B[43mcopy\u001B[49m\u001B[38;5;241;43m.\u001B[39;49m\u001B[43mdeepcopy\u001B[49m\u001B[43m(\u001B[49m\u001B[43mstate\u001B[49m\u001B[43m)\u001B[49m, (\u001B[38;5;124m\"\u001B[39m\u001B[38;5;124mshift\u001B[39m\u001B[38;5;124m\"\u001B[39m, \u001B[38;5;28;01mNone\u001B[39;00m)))\n\u001B[1;32m     57\u001B[0m     state\u001B[38;5;241m.\u001B[39mshift()\n\u001B[1;32m     58\u001B[0m \u001B[38;5;66;03m### END YOUR CODE ###\u001B[39;00m\n",
      "File \u001B[0;32m~/miniconda3/lib/python3.9/copy.py:172\u001B[0m, in \u001B[0;36mdeepcopy\u001B[0;34m(x, memo, _nil)\u001B[0m\n\u001B[1;32m    170\u001B[0m                 y \u001B[38;5;241m=\u001B[39m x\n\u001B[1;32m    171\u001B[0m             \u001B[38;5;28;01melse\u001B[39;00m:\n\u001B[0;32m--> 172\u001B[0m                 y \u001B[38;5;241m=\u001B[39m \u001B[43m_reconstruct\u001B[49m\u001B[43m(\u001B[49m\u001B[43mx\u001B[49m\u001B[43m,\u001B[49m\u001B[43m \u001B[49m\u001B[43mmemo\u001B[49m\u001B[43m,\u001B[49m\u001B[43m \u001B[49m\u001B[38;5;241;43m*\u001B[39;49m\u001B[43mrv\u001B[49m\u001B[43m)\u001B[49m\n\u001B[1;32m    174\u001B[0m \u001B[38;5;66;03m# If is its own copy, don't memoize.\u001B[39;00m\n\u001B[1;32m    175\u001B[0m \u001B[38;5;28;01mif\u001B[39;00m y \u001B[38;5;129;01mis\u001B[39;00m \u001B[38;5;129;01mnot\u001B[39;00m x:\n",
      "File \u001B[0;32m~/miniconda3/lib/python3.9/copy.py:270\u001B[0m, in \u001B[0;36m_reconstruct\u001B[0;34m(x, memo, func, args, state, listiter, dictiter, deepcopy)\u001B[0m\n\u001B[1;32m    268\u001B[0m \u001B[38;5;28;01mif\u001B[39;00m state \u001B[38;5;129;01mis\u001B[39;00m \u001B[38;5;129;01mnot\u001B[39;00m \u001B[38;5;28;01mNone\u001B[39;00m:\n\u001B[1;32m    269\u001B[0m     \u001B[38;5;28;01mif\u001B[39;00m deep:\n\u001B[0;32m--> 270\u001B[0m         state \u001B[38;5;241m=\u001B[39m \u001B[43mdeepcopy\u001B[49m\u001B[43m(\u001B[49m\u001B[43mstate\u001B[49m\u001B[43m,\u001B[49m\u001B[43m \u001B[49m\u001B[43mmemo\u001B[49m\u001B[43m)\u001B[49m\n\u001B[1;32m    271\u001B[0m     \u001B[38;5;28;01mif\u001B[39;00m \u001B[38;5;28mhasattr\u001B[39m(y, \u001B[38;5;124m'\u001B[39m\u001B[38;5;124m__setstate__\u001B[39m\u001B[38;5;124m'\u001B[39m):\n\u001B[1;32m    272\u001B[0m         y\u001B[38;5;241m.\u001B[39m__setstate__(state)\n",
      "File \u001B[0;32m~/miniconda3/lib/python3.9/copy.py:146\u001B[0m, in \u001B[0;36mdeepcopy\u001B[0;34m(x, memo, _nil)\u001B[0m\n\u001B[1;32m    144\u001B[0m copier \u001B[38;5;241m=\u001B[39m _deepcopy_dispatch\u001B[38;5;241m.\u001B[39mget(\u001B[38;5;28mcls\u001B[39m)\n\u001B[1;32m    145\u001B[0m \u001B[38;5;28;01mif\u001B[39;00m copier \u001B[38;5;129;01mis\u001B[39;00m \u001B[38;5;129;01mnot\u001B[39;00m \u001B[38;5;28;01mNone\u001B[39;00m:\n\u001B[0;32m--> 146\u001B[0m     y \u001B[38;5;241m=\u001B[39m \u001B[43mcopier\u001B[49m\u001B[43m(\u001B[49m\u001B[43mx\u001B[49m\u001B[43m,\u001B[49m\u001B[43m \u001B[49m\u001B[43mmemo\u001B[49m\u001B[43m)\u001B[49m\n\u001B[1;32m    147\u001B[0m \u001B[38;5;28;01melse\u001B[39;00m:\n\u001B[1;32m    148\u001B[0m     \u001B[38;5;28;01mif\u001B[39;00m \u001B[38;5;28missubclass\u001B[39m(\u001B[38;5;28mcls\u001B[39m, \u001B[38;5;28mtype\u001B[39m):\n",
      "File \u001B[0;32m~/miniconda3/lib/python3.9/copy.py:230\u001B[0m, in \u001B[0;36m_deepcopy_dict\u001B[0;34m(x, memo, deepcopy)\u001B[0m\n\u001B[1;32m    228\u001B[0m memo[\u001B[38;5;28mid\u001B[39m(x)] \u001B[38;5;241m=\u001B[39m y\n\u001B[1;32m    229\u001B[0m \u001B[38;5;28;01mfor\u001B[39;00m key, value \u001B[38;5;129;01min\u001B[39;00m x\u001B[38;5;241m.\u001B[39mitems():\n\u001B[0;32m--> 230\u001B[0m     y[deepcopy(key, memo)] \u001B[38;5;241m=\u001B[39m \u001B[43mdeepcopy\u001B[49m\u001B[43m(\u001B[49m\u001B[43mvalue\u001B[49m\u001B[43m,\u001B[49m\u001B[43m \u001B[49m\u001B[43mmemo\u001B[49m\u001B[43m)\u001B[49m\n\u001B[1;32m    231\u001B[0m \u001B[38;5;28;01mreturn\u001B[39;00m y\n",
      "File \u001B[0;32m~/miniconda3/lib/python3.9/copy.py:146\u001B[0m, in \u001B[0;36mdeepcopy\u001B[0;34m(x, memo, _nil)\u001B[0m\n\u001B[1;32m    144\u001B[0m copier \u001B[38;5;241m=\u001B[39m _deepcopy_dispatch\u001B[38;5;241m.\u001B[39mget(\u001B[38;5;28mcls\u001B[39m)\n\u001B[1;32m    145\u001B[0m \u001B[38;5;28;01mif\u001B[39;00m copier \u001B[38;5;129;01mis\u001B[39;00m \u001B[38;5;129;01mnot\u001B[39;00m \u001B[38;5;28;01mNone\u001B[39;00m:\n\u001B[0;32m--> 146\u001B[0m     y \u001B[38;5;241m=\u001B[39m \u001B[43mcopier\u001B[49m\u001B[43m(\u001B[49m\u001B[43mx\u001B[49m\u001B[43m,\u001B[49m\u001B[43m \u001B[49m\u001B[43mmemo\u001B[49m\u001B[43m)\u001B[49m\n\u001B[1;32m    147\u001B[0m \u001B[38;5;28;01melse\u001B[39;00m:\n\u001B[1;32m    148\u001B[0m     \u001B[38;5;28;01mif\u001B[39;00m \u001B[38;5;28missubclass\u001B[39m(\u001B[38;5;28mcls\u001B[39m, \u001B[38;5;28mtype\u001B[39m):\n",
      "File \u001B[0;32m~/miniconda3/lib/python3.9/copy.py:205\u001B[0m, in \u001B[0;36m_deepcopy_list\u001B[0;34m(x, memo, deepcopy)\u001B[0m\n\u001B[1;32m    203\u001B[0m append \u001B[38;5;241m=\u001B[39m y\u001B[38;5;241m.\u001B[39mappend\n\u001B[1;32m    204\u001B[0m \u001B[38;5;28;01mfor\u001B[39;00m a \u001B[38;5;129;01min\u001B[39;00m x:\n\u001B[0;32m--> 205\u001B[0m     append(\u001B[43mdeepcopy\u001B[49m\u001B[43m(\u001B[49m\u001B[43ma\u001B[49m\u001B[43m,\u001B[49m\u001B[43m \u001B[49m\u001B[43mmemo\u001B[49m\u001B[43m)\u001B[49m)\n\u001B[1;32m    206\u001B[0m \u001B[38;5;28;01mreturn\u001B[39;00m y\n",
      "\u001B[0;31mKeyboardInterrupt\u001B[0m: "
     ]
    }
   ],
   "source": [
    "toy_data = get_training_instances(toy_tree)\n",
    "print('toy_data length:', len(toy_data))\n",
    "pprint(toy_data)\n",
    "\n",
    "# You should expect to see the following output:\n",
    "# toy_data length: 11\n",
    "# [(([0],[5, 4, 3, 2, 1],set()), ('shift', None)),\n",
    "#  (([0, 1],[5, 4, 3, 2],set()), ('shift', None)),\n",
    "#  (([0, 1, 2],[5, 4, 3],set()), ('shift', None)),\n",
    "#  (([0, 1, 2, 3],[5, 4],set()), ('left_arc', 'det')),\n",
    "#  (([0, 1, 3],[5, 4],{(3, 2, 'det')}), ('shift', None)),\n",
    "#  (([0, 1, 3, 4],[5],{(3, 2, 'det')}), ('shift', None)),\n",
    "#  (([0, 1, 3, 4, 5],[],{(3, 2, 'det')}), ('left_arc', 'case')),\n",
    "#  (([0, 1, 3, 5],[],{(3, 2, 'det'), (5, 4, 'case')}), ('right_arc', 'nmod')),\n",
    "#  (([0, 1, 3],[],{(3, 5, 'nmod'), (3, 2, 'det'), (5, 4, 'case')}),\n",
    "#   ('right_arc', 'obj')),\n",
    "#  (([0, 1],[],{(3, 5, 'nmod'), (3, 2, 'det'), (5, 4, 'case'), (1, 3, 'obj')}),\n",
    "#   ('right_arc', 'root')),\n",
    "#  (([0],[],{(0, 1, 'root'), (3, 2, 'det'), (1, 3, 'obj'), (3, 5, 'nmod'), (5, 4, 'case')}),\n",
    "#   ('done', None))]"
   ]
  },
  {
   "cell_type": "markdown",
   "metadata": {},
   "source": [
    "Test with some sentence in dev.conll"
   ]
  },
  {
   "cell_type": "code",
   "execution_count": null,
   "metadata": {},
   "outputs": [],
   "source": [
    "# Test results\n",
    "data = get_training_instances(dev_trees[2])\n",
    "print('Number of data instances:', len(data))\n",
    "pprint(data[:3])\n",
    "\n",
    "# You should expect to see the following output:\n",
    "# Number of data instances: 41\n",
    "# [(([0],[20, 19, 18, 17, 16, 15, 14, 13, 12, 11, 10, 9, 8, 7, 6, 5, 4, 3, 2, 1],set()),\n",
    "#   ('shift', None)),\n",
    "#  (([0, 1],[20, 19, 18, 17, 16, 15, 14, 13, 12, 11, 10, 9, 8, 7, 6, 5, 4, 3, 2],set()),\n",
    "#   ('shift', None)),\n",
    "#  (([0, 1, 2],[20, 19, 18, 17, 16, 15, 14, 13, 12, 11, 10, 9, 8, 7, 6, 5, 4, 3],set()),\n",
    "#   ('left_arc', 'det'))]"
   ]
  },
  {
   "cell_type": "markdown",
   "metadata": {},
   "source": [
    "---\n",
    "\n",
    "**Note**:\n",
    "- The last element in the returned list of instances is a pseudo instance with the label `\"done\"`. This is for demenstration purpose, and should not be used for training.\n",
    "- For actual training step, you need to post-process the data to convert each relation tuple to an integer index. \n",
    "- We have 39 unique dependency relations in the data, including `ROOT`. Considering `ROOT` only appears as the head in a `right_arc` action, we have $(39-1)\\times 2 + 1 = 77$ possible actions in total.\n",
    "\n"
   ]
  },
  {
   "cell_type": "markdown",
   "metadata": {},
   "source": [
    "An example for converting the generated data instances into a a more *model-friendly* format:"
   ]
  },
  {
   "cell_type": "code",
   "execution_count": null,
   "metadata": {},
   "outputs": [],
   "source": [
    "import torch\n",
    "\n",
    "def process(dep_trees: List[DependencyTree], word_vocab: dict, pos_vocab: dict, action_vocab) -> torch.Tensor:\n",
    "    tensor_data = []\n",
    "    for tree in dep_trees:\n",
    "        instances = get_training_instances(tree)\n",
    "        for state, action in instances:\n",
    "            # TODO\n",
    "            # convert to torch tensor and append to tensor_data\n",
    "            pass\n",
    "\n",
    "    return torch.stack(tensor_data)"
   ]
  }
 ],
 "metadata": {
  "kernelspec": {
   "display_name": "base",
   "language": "python",
   "name": "python3"
  },
  "language_info": {
   "codemirror_mode": {
    "name": "ipython",
    "version": 3
   },
   "file_extension": ".py",
   "mimetype": "text/x-python",
   "name": "python",
   "nbconvert_exporter": "python",
   "pygments_lexer": "ipython3",
   "version": "3.11.5"
  }
 },
 "nbformat": 4,
 "nbformat_minor": 2
}
