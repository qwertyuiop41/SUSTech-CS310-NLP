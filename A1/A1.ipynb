{
 "cells": [
  {
   "cell_type": "markdown",
   "metadata": {},
   "source": [
    "## Assignment 1. Neural Text Classification\n",
    "## CS310 Natural Language Processing\n",
    "\n",
    "**Total points**: 50\n",
    "\n",
    "You should roughtly follow the structure of the notebook. Add additional cells if you feel needed. \n",
    "\n",
    "You can (and you should) re-use the code from Lab 2. \n",
    "\n",
    "Make sure your code is readable and well-structured."
   ]
  },
  {
   "cell_type": "markdown",
   "metadata": {},
   "source": [
    "### 0. Import Necessary Libraries"
   ]
  },
  {
   "cell_type": "code",
   "execution_count": null,
   "metadata": {},
   "outputs": [
    {
     "ename": "NameError",
     "evalue": "name 'json' is not defined",
     "output_type": "error",
     "traceback": [
      "\u001B[0;31m---------------------------------------------------------------------------\u001B[0m",
      "\u001B[0;31mNameError\u001B[0m                                 Traceback (most recent call last)",
      "Cell \u001B[0;32mIn[1], line 11\u001B[0m\n\u001B[1;32m      8\u001B[0m train_iterator \u001B[38;5;241m=\u001B[39m jsonl_iterator(jsonl_file)\n\u001B[1;32m     10\u001B[0m count \u001B[38;5;241m=\u001B[39m \u001B[38;5;241m0\u001B[39m\n\u001B[0;32m---> 11\u001B[0m \u001B[38;5;28;01mfor\u001B[39;00m item \u001B[38;5;129;01min\u001B[39;00m train_iterator:\n\u001B[1;32m     12\u001B[0m     \u001B[38;5;28mprint\u001B[39m(item)\n\u001B[1;32m     13\u001B[0m     count \u001B[38;5;241m+\u001B[39m\u001B[38;5;241m=\u001B[39m \u001B[38;5;241m1\u001B[39m\n",
      "Cell \u001B[0;32mIn[1], line 4\u001B[0m, in \u001B[0;36mjsonl_iterator\u001B[0;34m(file_path)\u001B[0m\n\u001B[1;32m      2\u001B[0m \u001B[38;5;28;01mwith\u001B[39;00m \u001B[38;5;28mopen\u001B[39m(file_path, \u001B[38;5;124m'\u001B[39m\u001B[38;5;124mr\u001B[39m\u001B[38;5;124m'\u001B[39m, encoding\u001B[38;5;241m=\u001B[39m\u001B[38;5;124m'\u001B[39m\u001B[38;5;124mutf-8\u001B[39m\u001B[38;5;124m'\u001B[39m) \u001B[38;5;28;01mas\u001B[39;00m file:\n\u001B[1;32m      3\u001B[0m     \u001B[38;5;28;01mfor\u001B[39;00m line \u001B[38;5;129;01min\u001B[39;00m file:\n\u001B[0;32m----> 4\u001B[0m         json_data \u001B[38;5;241m=\u001B[39m \u001B[43mjson\u001B[49m\u001B[38;5;241m.\u001B[39mloads(line)\n\u001B[1;32m      5\u001B[0m         \u001B[38;5;28;01myield\u001B[39;00m json_data\n",
      "\u001B[0;31mNameError\u001B[0m: name 'json' is not defined"
     ]
    }
   ],
   "source": [
    "\n",
    "\n",
    "import json\n",
    "import re\n",
    "from torch.utils.data import Dataset, DataLoader\n",
    "\n",
    "\n"
   ]
  },
  {
   "cell_type": "markdown",
   "metadata": {},
   "source": [
    "### 1. Data Processing"
   ]
  },
  {
   "cell_type": "code",
   "execution_count": null,
   "metadata": {},
   "outputs": [],
   "source": [
    "\n",
    "\n",
    "class CustomDataset(Dataset):\n",
    "    def __init__(self, file_path):\n",
    "        self.data = self._process_data(file_path)\n",
    "\n",
    "    def _process_data(self, file_path):\n",
    "        with open(file_path, 'r', encoding='utf-8') as file:\n",
    "            lines = file.readlines()\n",
    "\n",
    "        processed_data = []\n",
    "        for line in lines:\n",
    "            json_data = json.loads(line)\n",
    "            sentence = json_data['sentence']\n",
    "            choices = json_data['choices']\n",
    "            label = json_data['label'][0]\n",
    "            id = json_data['id']\n",
    "\n",
    "            processed_sentence = self._tokenize(sentence)\n",
    "            processed_choices = [self._tokenize(choice) for choice in choices]\n",
    "\n",
    "            processed_data.append({\n",
    "                'sentence': processed_sentence,\n",
    "                'choices': processed_choices,\n",
    "                'label': label,\n",
    "                'id': id\n",
    "            })\n",
    "\n",
    "        return processed_data\n",
    "\n",
    "    def _tokenize(self, text):\n",
    "        # # Tokenize text by treating each single Chinese character as a token\n",
    "        # tokens = re.findall(r'[\\u4e00-\\u9fff]', text)\n",
    "        # return ''.join(tokens)\n",
    "        #Improved\n",
    "        chinese_pattern = re.compile(r'[\\u4e00-\\u9fff]')\n",
    "        digit_pattern = re.compile(r'\\d+')\n",
    "        english_word_pattern = re.compile(r'[a-zA-Z]+')\n",
    "        # 匹配除了中英文数字空格之外的特殊字符\n",
    "        punctuation_pattern = re.compile(r'[^\\u4e00-\\u9fff\\da-zA-Z\\s]')\n",
    "        tokens = []\n",
    "        for token in re.findall(r'[\\u4e00-\\u9fff]|\\d+|[a-zA-Z]+|[^\\u4e00-\\u9fff\\da-zA-Z\\s]', text):\n",
    "            tokens.append(token)\n",
    "        return tokens\n",
    "\n",
    "    def __len__(self):\n",
    "        return len(self.data)\n",
    "\n",
    "    def __getitem__(self, index):\n",
    "        return self.data[index]\n",
    "\n",
    "# Example usage\n",
    "train_dataset = CustomDataset('train.jsonl')\n",
    "train_dataloader = DataLoader(train_dataset, batch_size=32, shuffle=True)\n",
    "train_iterator = iter(train_dataloader)\n",
    "\n",
    "\n",
    "\n",
    "def basic_tokenizer(text):\n",
    "    chinese_pattern = re.compile(r'[\\u4e00-\\u9fff]')\n",
    "    tokens = []\n",
    "    for char in text:\n",
    "        if chinese_pattern.match(char):\n",
    "            tokens.append(char)\n",
    "    return tokens\n",
    "\n",
    "\n",
    "def yield_basic_tokens(data_iter):\n",
    "    for text, _ in data_iter:\n",
    "        yield basic_tokenizer(text)\n",
    "\n",
    "\n",
    "count = 0\n",
    "for tokens in yield_basic_tokens(train_iterator): # Use a new iterator\n",
    "    print(tokens)\n",
    "    count += 1\n",
    "    if count > 7:\n",
    "        break\n",
    "\n",
    "\n",
    "\n",
    "def improved_tokenizer(text):\n",
    "    chinese_pattern = re.compile(r'[\\u4e00-\\u9fff]')\n",
    "    digit_pattern = re.compile(r'\\d+')\n",
    "    english_word_pattern = re.compile(r'[a-zA-Z]+')\n",
    "    #匹配除了中英文数字空格之外的特殊字符\n",
    "    punctuation_pattern = re.compile(r'[^\\u4e00-\\u9fff\\da-zA-Z\\s]')\n",
    "    tokens = []\n",
    "    for token in re.findall(r'[\\u4e00-\\u9fff]|\\d+|[a-zA-Z]+|[^\\u4e00-\\u9fff\\da-zA-Z\\s]', text):\n",
    "            tokens.append(token)\n",
    "    return tokens\n",
    "\n",
    "\n",
    "\n",
    "def yield_improved_tokens(data_iter):\n",
    "    for text, _ in data_iter:\n",
    "        yield improved_tokenizer(text)\n",
    "\n",
    "\n",
    "count = 0\n",
    "for tokens in yield_basic_tokens(train_iterator): # Use a new iterator\n",
    "    print(tokens)\n",
    "    count += 1\n",
    "    if count > 7:\n",
    "        break"
   ]
  },
  {
   "cell_type": "markdown",
   "metadata": {},
   "source": [
    "### 2. Build the Model"
   ]
  },
  {
   "cell_type": "code",
   "execution_count": null,
   "metadata": {},
   "outputs": [],
   "source": []
  },
  {
   "cell_type": "markdown",
   "metadata": {},
   "source": [
    "### 3. Train and Evaluate"
   ]
  },
  {
   "cell_type": "code",
   "execution_count": null,
   "metadata": {},
   "outputs": [],
   "source": []
  },
  {
   "cell_type": "markdown",
   "metadata": {},
   "source": [
    "### 4. Explore Word Segmentation"
   ]
  },
  {
   "cell_type": "code",
   "execution_count": null,
   "metadata": {},
   "outputs": [],
   "source": []
  }
 ],
 "metadata": {
  "language_info": {
   "name": "python"
  }
 },
 "nbformat": 4,
 "nbformat_minor": 2
}
