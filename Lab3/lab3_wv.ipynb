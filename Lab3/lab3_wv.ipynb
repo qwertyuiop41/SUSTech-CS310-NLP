{
 "cells": [
  {
   "cell_type": "markdown",
   "metadata": {},
   "source": [
    "# CS310 Natural Language Processing\n",
    "# Lab 3: Word Vectors\n",
    "\n",
    "Install `scikit-learn`, `matplotlib`, and `gensim` first\n",
    "\n",
    "```bash\n",
    "pip install -U scikit-learn matplotlib gensim\n",
    "```"
   ]
  },
  {
   "cell_type": "code",
   "execution_count": 170,
   "metadata": {},
   "outputs": [],
   "source": [
    "import itertools\n",
    "from typing import List\n",
    "from collections import Counter\n",
    "\n",
    "import matplotlib.pyplot as plt\n",
    "import numpy as np\n",
    "from sklearn.decomposition import TruncatedSVD"
   ]
  },
  {
   "cell_type": "markdown",
   "metadata": {},
   "source": [
    "## T1. Latent Semantic Analysis (LSA) - A word-document based approach\n",
    "\n",
    "We are working on the first ten chapters of 《论语》 (The Analects of Confucius) in this lab. The text is in Chinese (with punctuations).\n",
    "\n",
    "First, load the corpus data from the folder `lunyu` into a list of documents. We read all lines from the ten TXT files and combine them into a list of strings, `documents`. Each line of text is considered as a *document*.\n",
    "\n",
    "The file names are in the format of `text_ch1.txt`, `text_ch2.txt`, ..., `text_ch10.txt`."
   ]
  },
  {
   "cell_type": "code",
   "execution_count": 171,
   "metadata": {},
   "outputs": [],
   "source": [
    "documents = []\n",
    "for i in range(1, 11):\n",
    "    with open(f\"lunyu/text_ch{i}.txt\", \"r\") as f:\n",
    "        for line in f:\n",
    "            documents.append(line.strip())\n",
    "\n",
    "# Test result\n",
    "print(len(documents))\n",
    "print(documents[:3])"
   ]
  },
  {
   "cell_type": "markdown",
   "metadata": {},
   "source": [
    "**Clean the data**\n",
    "\n",
    "Replace spaces `' '` with empty string `''`"
   ]
  },
  {
   "cell_type": "code",
   "execution_count": 172,
   "metadata": {},
   "outputs": [],
   "source": [
    "### START TODO ###\n",
    "\n",
    "documents = [document.replace(' ', '') for document in documents]\n",
    "print(len(documents))\n",
    "print(documents[:3])\n",
    "### END TODO ###"
   ]
  },
  {
   "cell_type": "markdown",
   "metadata": {},
   "source": [
    "Concatenate all documents into a single string `words`, whose length is the number of tokens in the corpus."
   ]
  },
  {
   "cell_type": "code",
   "execution_count": 173,
   "metadata": {},
   "outputs": [],
   "source": [
    "### START TODO ###\n",
    "words = ''.join(documents)\n",
    "\n",
    "num_tokens = len(words)\n",
    "\n",
    "### END TODO ###"
   ]
  },
  {
   "cell_type": "code",
   "execution_count": 174,
   "metadata": {},
   "outputs": [],
   "source": [
    "# Test result\n",
    "print(len(words))\n",
    "\n",
    "# You are expected to see the following output:\n",
    "# 8664"
   ]
  },
  {
   "cell_type": "markdown",
   "metadata": {},
   "source": [
    "**Build vocabulary**\n",
    "\n",
    "Use `collections.Counter` to build a vocabulary of characters (字) from the cleaned data. Yes, we do not use word segmentation here. "
   ]
  },
  {
   "cell_type": "code",
   "execution_count": 175,
   "metadata": {},
   "outputs": [],
   "source": [
    "### START TODO ###\n",
    "vocab = Counter(words)\n",
    "\n",
    "### END TODO ###"
   ]
  },
  {
   "cell_type": "code",
   "execution_count": 176,
   "metadata": {},
   "outputs": [],
   "source": [
    "# Test result\n",
    "print(vocab.most_common(10))\n",
    "\n",
    "# You are expected to see the following output:\n",
    "# [('，', 738), ('。', 405), ('子', 402), ('：', 339), ('曰', 318), ..."
   ]
  },
  {
   "cell_type": "markdown",
   "metadata": {},
   "source": [
    "**Build `word2index`**\n",
    "\n",
    "Use the vocabulary to build a `word2index` dictionary, which maps each character to an integer index.\n",
    "\n",
    "The order of indices should be the descending order of character frequency, i.e., the most frequent character has index 0, the second most frequent character has index 1, and so on.\n",
    "\n",
    "For example: \n",
    "```python\n",
    ">>> word2index['，']\n",
    ">>> 0\n",
    ">>> word2index['。']\n",
    ">>> 1\n",
    "```"
   ]
  },
  {
   "cell_type": "code",
   "execution_count": 177,
   "metadata": {},
   "outputs": [],
   "source": [
    "### START TODO ###\n",
    "word2index = {char: idx for idx, (char, _) in enumerate(vocab.most_common())}\n",
    "### END TODO ###"
   ]
  },
  {
   "cell_type": "code",
   "execution_count": 178,
   "metadata": {},
   "outputs": [],
   "source": [
    "# Test result\n",
    "print(list(itertools.islice(word2index.items(), 10)))\n",
    "\n",
    "# You are expected to see the following output:\n",
    "# [('，', 0), ('。', 1), ('子', 2), ('：', 3), ('曰', 4), ('不', 5), ('也', 6), ('之', 7), ('而', 8), ('？', 9)]"
   ]
  },
  {
   "cell_type": "markdown",
   "metadata": {},
   "source": [
    "**Initialize word-document matrix**\n",
    "\n",
    "Use `numpy.zeros()` to initialize a word-document matrix `A` with shape `(vocab-size, num-documents)`."
   ]
  },
  {
   "cell_type": "code",
   "execution_count": 179,
   "metadata": {},
   "outputs": [],
   "source": [
    "### START TODO ###\n",
    "vocab_size = len(word2index)\n",
    "num_documents = len(documents)\n",
    "A = np.zeros((vocab_size, num_documents))\n",
    "### END TODO ###\n",
    "\n",
    "# Test result\n",
    "print(A.shape)\n",
    "print(A)\n",
    "# You should see a matrix of all zeros with the shape of (vocab_size, num_documents)"
   ]
  },
  {
   "cell_type": "markdown",
   "metadata": {},
   "source": [
    "**Fill in the entries of word-document matrix**\n",
    "\n",
    "`A[i, j]` is the frequency of word `i` in document `j`. For simplicity, you can go through each document and count the frequency of each word that has appeared in the document.\n",
    "\n",
    "You may need the `word2index` dictionary to convert a word to its index, so that the correct row index `i` can be found. The column index `j` is the document index in the list `documents`."
   ]
  },
  {
   "cell_type": "code",
   "execution_count": 180,
   "metadata": {},
   "outputs": [],
   "source": [
    "# Assert A is all zeros; if not, run the previous cell to reset A\n",
    "assert np.all(A == 0)\n",
    "\n",
    "### START TODO ###\n",
    "for j, document in enumerate(documents):\n",
    "    for word in document:\n",
    "        if word in word2index:\n",
    "            i = word2index[word]\n",
    "            A[i, j] += 1\n",
    "### END TODO ###"
   ]
  },
  {
   "cell_type": "code",
   "execution_count": 181,
   "metadata": {},
   "outputs": [],
   "source": [
    "# Test result\n",
    "print(A[:5, :5])\n",
    "\n",
    "# You are expected to see the following output:\n",
    "# [[3. 5. 1. 0. 3.]\n",
    "#  [0. 2. 0. 0. 1.]\n",
    "#  [2. 2. 1. 1. 1.]\n",
    "#  [1. 1. 1. 2. 1.]\n",
    "#  [1. 1. 1. 1. 1.]]"
   ]
  },
  {
   "cell_type": "markdown",
   "metadata": {},
   "source": [
    "**Compute probabilities from the matrix**\n",
    "\n",
    "What is the total number of occurrences of the character \"学\" in the corpus?\n",
    "\n",
    "*Hint*: Use `numpy.sun()` on the correct subset of the matrix `A`."
   ]
  },
  {
   "cell_type": "code",
   "execution_count": 182,
   "metadata": {},
   "outputs": [],
   "source": [
    "### START TODO ###\n",
    "character = \"学\"\n",
    "index = word2index.get(character)\n",
    "count = np.sum(A[index])\n",
    "### END TODO ###\n",
    "\n",
    "# Test result\n",
    "print(count)\n",
    "# You are expected to see the following output:\n",
    "# 25.0"
   ]
  },
  {
   "cell_type": "markdown",
   "metadata": {},
   "source": [
    "What is the expected count of the character \"学\" in the first document -- \"子曰：学而时习之，不亦说乎？有朋自远方来，不亦乐乎？人不知而不愠，不亦君子乎？\" (`documents[0]`)?\n",
    "\n",
    "*Hint*: First, compute the global unigram probability of `学`, then multiply it by the number of words in the first document."
   ]
  },
  {
   "cell_type": "code",
   "execution_count": 183,
   "metadata": {},
   "outputs": [],
   "source": [
    "### START TODO ###\n",
    "prob = count / num_tokens\n",
    "first_document = documents[0]\n",
    "num_words_in_first_document = len(first_document)\n",
    "expected_count = prob * num_words_in_first_document\n",
    "\n",
    "### END TODO ###\n",
    "\n",
    "# Test result\n",
    "print(expected_count)\n",
    "# You are expected to see the following output:\n",
    "# 0.11253462603878117"
   ]
  },
  {
   "cell_type": "markdown",
   "metadata": {},
   "source": [
    "What is the *pointwise mutual information* (PMI) of the character \"学\", or \"surprise\" in `document[0]`? What about in document[1]?\n",
    "\n",
    "Complete the implementation of the function `PMI(word, doc, A, word2index, n_words, documents)`\n",
    "\n",
    "*Hint*: \n",
    "- Use the formula for PMI: $\\log(\\frac{\\text{observed count}}{\\text{expected count}})$\n",
    "- Handle the case when the observed count is 0, where the PMI is undefined. In this case, return 0.\n",
    "- The $[]_+$ operation means that we want to keep the PMI value positive. You can use `max()` to achieve this."
   ]
  },
  {
   "cell_type": "code",
   "execution_count": 184,
   "metadata": {},
   "outputs": [],
   "source": [
    "### START TODO ###\n",
    "import math\n",
    "def PMI(word: str, doc: int, \n",
    "    A: np.ndarray, word2index: dict, \n",
    "    n_words: int, documents: List[str]) -> float:\n",
    "    \"\"\" Compute the pointwise mutual information of a word in a document.\n",
    "    Args:\n",
    "        word: The word to compute PMI for.\n",
    "        doc: The document index.\n",
    "        A: The word-document count matrix.\n",
    "        word2index: The word to index mapping.\n",
    "        n_words: The number of words in the corpus.\n",
    "        documents: The list of documents.\n",
    "    \"\"\"\n",
    "    # Get the index of the word in the word2index dictionary\n",
    "    word_index = word2index.get(word)\n",
    "\n",
    "    if word_index is None:\n",
    "        return 0  # Word not found in vocabulary, return 0 PMI\n",
    "\n",
    "    # Calculate the observed count of the word in the document\n",
    "    observed_count = A[word_index][doc]\n",
    "\n",
    "    # Avoid division by zero\n",
    "    if observed_count == 0:\n",
    "        return 0\n",
    "\n",
    "    count = np.sum(A[word_index])\n",
    "\n",
    "    prob = count / n_words\n",
    "\n",
    "    num_words_in_document = len(documents[doc])\n",
    "    expected_count = prob * num_words_in_document\n",
    "\n",
    "\n",
    "    # Calculate the PMI using the formula: log(observed_count / expected_count)\n",
    "    pmi = np.log(observed_count / expected_count)\n",
    "\n",
    "    # Keep the PMI value positive using the max() function\n",
    "    pmi_positive = max(0, pmi)\n",
    "\n",
    "    return pmi_positive\n",
    "### END TODO ###\n",
    "\n",
    "# Test result\n",
    "print(PMI('学', 0, A, word2index, len(words), documents))\n",
    "print(PMI('学', 1, A, word2index, len(words), documents))\n",
    "# You are expected to see the following output:\n",
    "# 2.1844943176829794\n",
    "# 0"
   ]
  },
  {
   "cell_type": "markdown",
   "metadata": {},
   "source": [
    "**Implement LSA using Truncated SVD**\n",
    "\n",
    "Use [sklearn.decomposition.TruncatedSVD](https://scikit-learn.org/stable/modules/generated/sklearn.decomposition.TruncatedSVD.html). (Check the documentation for more details)\n",
    "\n",
    "\n",
    "Set the number of components to 2, and fit the model with the word-document matrix `A`.\n",
    "\n",
    "Save the dimension reduced matrix to `M`."
   ]
  },
  {
   "cell_type": "code",
   "execution_count": 185,
   "metadata": {},
   "outputs": [],
   "source": [
    "### START TODO ###\n",
    "n_components = None\n",
    "svd = TruncatedSVD(n_components=n_components)\n",
    "M = None\n",
    "### END TODO ###"
   ]
  },
  {
   "cell_type": "code",
   "execution_count": 186,
   "metadata": {},
   "outputs": [],
   "source": [
    "# Test result\n",
    "print(M.shape)\n",
    "print(M[word2index['学'],:])\n",
    "\n",
    "# You are expected to see the following output:\n",
    "# (986, 2)\n",
    "# [1.41745292 0.4941003 ]"
   ]
  },
  {
   "cell_type": "markdown",
   "metadata": {},
   "source": [
    "Plot some words in the 2D space."
   ]
  },
  {
   "cell_type": "code",
   "execution_count": null,
   "metadata": {},
   "outputs": [],
   "source": [
    "words = ['学', '习', '曰', '子', '人', '仁']\n",
    "words_pinyin = ['xue', 'xi', 'yue', 'zi', 'ren1', 'ren2']\n",
    "\n",
    "plt.figure(figsize=(6, 6))\n",
    "for i, word in enumerate(words):\n",
    "    plt.scatter(M[word2index[word], 0], M[word2index[word], 1])\n",
    "    plt.text(M[word2index[word], 0], M[word2index[word], 1], words_pinyin[i])\n",
    "plt.show()"
   ]
  },
  {
   "cell_type": "markdown",
   "metadata": {},
   "source": [
    "## T2. Play with Pretrained Word Vectors\n",
    "\n",
    "Checkout the `gensim` library and its `downloader` API here: https://radimrehurek.com/gensim/downloader.html"
   ]
  },
  {
   "cell_type": "code",
   "execution_count": null,
   "metadata": {},
   "outputs": [],
   "source": [
    "def load_embedding_model():\n",
    "    \"\"\" Load Pretrained Vectors\n",
    "        Return:\n",
    "            wv_from_bin: All embeddings, each lengh 200 (or 300 if using Google News)\n",
    "    \"\"\"\n",
    "    import gensim.downloader as api\n",
    "    wv_from_bin = api.load(\"glove-wiki-gigaword-200\") # file size 252.1MB, vocab size 400k, dim 200\n",
    "    # You can also try \"word2vec-google-news-300\", which is much larger 1600+MB\n",
    "    print(\"Loaded vocab size %i\" % len(list(wv_from_bin.index_to_key)))\n",
    "    return wv_from_bin\n",
    "\n",
    "\n",
    "# Run this to get the full corpora information\n",
    "# import gensim.downloader as api\n",
    "# api.info()"
   ]
  },
  {
   "cell_type": "code",
   "execution_count": null,
   "metadata": {},
   "outputs": [],
   "source": [
    "# -----------------------------------\n",
    "# Run Cell to Load Word Vectors\n",
    "# Note: This will take a couple minutes\n",
    "# -----------------------------------\n",
    "wv_from_bin = load_embedding_model()"
   ]
  },
  {
   "cell_type": "markdown",
   "metadata": {},
   "source": [
    "Play with word analogy task using the `most_similar` method of the `KeyedVectors` class."
   ]
  },
  {
   "cell_type": "code",
   "execution_count": null,
   "metadata": {},
   "outputs": [],
   "source": [
    "import pprint\n",
    "\n",
    "# Run this cell to answer the analogy -- man : grandfather :: woman : x\n",
    "pprint.pprint(wv_from_bin.most_similar(positive=['woman', 'grandfather'], negative=['man']))"
   ]
  },
  {
   "cell_type": "markdown",
   "metadata": {},
   "source": [
    "Follow the above example and try any other analogy tasks you like.\n",
    "\n",
    "For instance, China: Beijing = Japan: ?"
   ]
  },
  {
   "cell_type": "code",
   "execution_count": null,
   "metadata": {},
   "outputs": [],
   "source": [
    "### START TODO ###\n",
    "\n",
    "### END TODO ###"
   ]
  }
 ],
 "metadata": {
  "kernelspec": {
   "display_name": "pytorch-nightly",
   "language": "python",
   "name": "python3"
  },
  "language_info": {
   "codemirror_mode": {
    "name": "ipython",
    "version": 3
   },
   "file_extension": ".py",
   "mimetype": "text/x-python",
   "name": "python",
   "nbconvert_exporter": "python",
   "pygments_lexer": "ipython3",
   "version": "3.11.5"
  }
 },
 "nbformat": 4,
 "nbformat_minor": 2
}
